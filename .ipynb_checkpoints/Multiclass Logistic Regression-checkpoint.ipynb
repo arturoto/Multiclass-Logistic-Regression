{
 "cells": [
  {
   "cell_type": "markdown",
   "metadata": {},
   "source": [
    "## A Quick guide to Data Analysis, Visualization and Multiclass Logistic Regression\n",
    "### Arturo Torres\n",
    "\n",
    "\n",
    "I will format this notebook as a quick guide to Data Analysis for an introductory audience. Luckily many Data Science libraries in Python have built in datasets that have been preprocessed for the convenience of the user. In this Notebook I will explore the Iris data set from the Seaborn library.\n",
    "\n",
    "\n",
    "First we'll import the standard library’s; many of which are can be found in any Python script related to Data Science:"
   ]
  },
  {
   "cell_type": "code",
   "execution_count": 1,
   "metadata": {
    "collapsed": true
   },
   "outputs": [],
   "source": [
    "import pandas as pd\n",
    "import numpy as np\n",
    "import seaborn as sns\n",
    "import matplotlib.pyplot as plt\n",
    "% matplotlib inline"
   ]
  },
  {
   "cell_type": "markdown",
   "metadata": {},
   "source": [
    "Using the Seaborn library to import the Iris data set and saving it to a variable named iris_data; the data is imported as a Pandas DataFrame."
   ]
  },
  {
   "cell_type": "code",
   "execution_count": 2,
   "metadata": {},
   "outputs": [
    {
     "data": {
      "text/html": [
       "<div>\n",
       "<style scoped>\n",
       "    .dataframe tbody tr th:only-of-type {\n",
       "        vertical-align: middle;\n",
       "    }\n",
       "\n",
       "    .dataframe tbody tr th {\n",
       "        vertical-align: top;\n",
       "    }\n",
       "\n",
       "    .dataframe thead th {\n",
       "        text-align: right;\n",
       "    }\n",
       "</style>\n",
       "<table border=\"1\" class=\"dataframe\">\n",
       "  <thead>\n",
       "    <tr style=\"text-align: right;\">\n",
       "      <th></th>\n",
       "      <th>sepal_length</th>\n",
       "      <th>sepal_width</th>\n",
       "      <th>petal_length</th>\n",
       "      <th>petal_width</th>\n",
       "      <th>species</th>\n",
       "    </tr>\n",
       "  </thead>\n",
       "  <tbody>\n",
       "    <tr>\n",
       "      <th>0</th>\n",
       "      <td>5.1</td>\n",
       "      <td>3.5</td>\n",
       "      <td>1.4</td>\n",
       "      <td>0.2</td>\n",
       "      <td>setosa</td>\n",
       "    </tr>\n",
       "    <tr>\n",
       "      <th>1</th>\n",
       "      <td>4.9</td>\n",
       "      <td>3.0</td>\n",
       "      <td>1.4</td>\n",
       "      <td>0.2</td>\n",
       "      <td>setosa</td>\n",
       "    </tr>\n",
       "    <tr>\n",
       "      <th>2</th>\n",
       "      <td>4.7</td>\n",
       "      <td>3.2</td>\n",
       "      <td>1.3</td>\n",
       "      <td>0.2</td>\n",
       "      <td>setosa</td>\n",
       "    </tr>\n",
       "    <tr>\n",
       "      <th>3</th>\n",
       "      <td>4.6</td>\n",
       "      <td>3.1</td>\n",
       "      <td>1.5</td>\n",
       "      <td>0.2</td>\n",
       "      <td>setosa</td>\n",
       "    </tr>\n",
       "    <tr>\n",
       "      <th>4</th>\n",
       "      <td>5.0</td>\n",
       "      <td>3.6</td>\n",
       "      <td>1.4</td>\n",
       "      <td>0.2</td>\n",
       "      <td>setosa</td>\n",
       "    </tr>\n",
       "    <tr>\n",
       "      <th>5</th>\n",
       "      <td>5.4</td>\n",
       "      <td>3.9</td>\n",
       "      <td>1.7</td>\n",
       "      <td>0.4</td>\n",
       "      <td>setosa</td>\n",
       "    </tr>\n",
       "    <tr>\n",
       "      <th>6</th>\n",
       "      <td>4.6</td>\n",
       "      <td>3.4</td>\n",
       "      <td>1.4</td>\n",
       "      <td>0.3</td>\n",
       "      <td>setosa</td>\n",
       "    </tr>\n",
       "    <tr>\n",
       "      <th>7</th>\n",
       "      <td>5.0</td>\n",
       "      <td>3.4</td>\n",
       "      <td>1.5</td>\n",
       "      <td>0.2</td>\n",
       "      <td>setosa</td>\n",
       "    </tr>\n",
       "    <tr>\n",
       "      <th>8</th>\n",
       "      <td>4.4</td>\n",
       "      <td>2.9</td>\n",
       "      <td>1.4</td>\n",
       "      <td>0.2</td>\n",
       "      <td>setosa</td>\n",
       "    </tr>\n",
       "    <tr>\n",
       "      <th>9</th>\n",
       "      <td>4.9</td>\n",
       "      <td>3.1</td>\n",
       "      <td>1.5</td>\n",
       "      <td>0.1</td>\n",
       "      <td>setosa</td>\n",
       "    </tr>\n",
       "    <tr>\n",
       "      <th>10</th>\n",
       "      <td>5.4</td>\n",
       "      <td>3.7</td>\n",
       "      <td>1.5</td>\n",
       "      <td>0.2</td>\n",
       "      <td>setosa</td>\n",
       "    </tr>\n",
       "    <tr>\n",
       "      <th>11</th>\n",
       "      <td>4.8</td>\n",
       "      <td>3.4</td>\n",
       "      <td>1.6</td>\n",
       "      <td>0.2</td>\n",
       "      <td>setosa</td>\n",
       "    </tr>\n",
       "    <tr>\n",
       "      <th>12</th>\n",
       "      <td>4.8</td>\n",
       "      <td>3.0</td>\n",
       "      <td>1.4</td>\n",
       "      <td>0.1</td>\n",
       "      <td>setosa</td>\n",
       "    </tr>\n",
       "    <tr>\n",
       "      <th>13</th>\n",
       "      <td>4.3</td>\n",
       "      <td>3.0</td>\n",
       "      <td>1.1</td>\n",
       "      <td>0.1</td>\n",
       "      <td>setosa</td>\n",
       "    </tr>\n",
       "    <tr>\n",
       "      <th>14</th>\n",
       "      <td>5.8</td>\n",
       "      <td>4.0</td>\n",
       "      <td>1.2</td>\n",
       "      <td>0.2</td>\n",
       "      <td>setosa</td>\n",
       "    </tr>\n",
       "    <tr>\n",
       "      <th>15</th>\n",
       "      <td>5.7</td>\n",
       "      <td>4.4</td>\n",
       "      <td>1.5</td>\n",
       "      <td>0.4</td>\n",
       "      <td>setosa</td>\n",
       "    </tr>\n",
       "    <tr>\n",
       "      <th>16</th>\n",
       "      <td>5.4</td>\n",
       "      <td>3.9</td>\n",
       "      <td>1.3</td>\n",
       "      <td>0.4</td>\n",
       "      <td>setosa</td>\n",
       "    </tr>\n",
       "    <tr>\n",
       "      <th>17</th>\n",
       "      <td>5.1</td>\n",
       "      <td>3.5</td>\n",
       "      <td>1.4</td>\n",
       "      <td>0.3</td>\n",
       "      <td>setosa</td>\n",
       "    </tr>\n",
       "    <tr>\n",
       "      <th>18</th>\n",
       "      <td>5.7</td>\n",
       "      <td>3.8</td>\n",
       "      <td>1.7</td>\n",
       "      <td>0.3</td>\n",
       "      <td>setosa</td>\n",
       "    </tr>\n",
       "    <tr>\n",
       "      <th>19</th>\n",
       "      <td>5.1</td>\n",
       "      <td>3.8</td>\n",
       "      <td>1.5</td>\n",
       "      <td>0.3</td>\n",
       "      <td>setosa</td>\n",
       "    </tr>\n",
       "    <tr>\n",
       "      <th>20</th>\n",
       "      <td>5.4</td>\n",
       "      <td>3.4</td>\n",
       "      <td>1.7</td>\n",
       "      <td>0.2</td>\n",
       "      <td>setosa</td>\n",
       "    </tr>\n",
       "    <tr>\n",
       "      <th>21</th>\n",
       "      <td>5.1</td>\n",
       "      <td>3.7</td>\n",
       "      <td>1.5</td>\n",
       "      <td>0.4</td>\n",
       "      <td>setosa</td>\n",
       "    </tr>\n",
       "    <tr>\n",
       "      <th>22</th>\n",
       "      <td>4.6</td>\n",
       "      <td>3.6</td>\n",
       "      <td>1.0</td>\n",
       "      <td>0.2</td>\n",
       "      <td>setosa</td>\n",
       "    </tr>\n",
       "    <tr>\n",
       "      <th>23</th>\n",
       "      <td>5.1</td>\n",
       "      <td>3.3</td>\n",
       "      <td>1.7</td>\n",
       "      <td>0.5</td>\n",
       "      <td>setosa</td>\n",
       "    </tr>\n",
       "    <tr>\n",
       "      <th>24</th>\n",
       "      <td>4.8</td>\n",
       "      <td>3.4</td>\n",
       "      <td>1.9</td>\n",
       "      <td>0.2</td>\n",
       "      <td>setosa</td>\n",
       "    </tr>\n",
       "    <tr>\n",
       "      <th>25</th>\n",
       "      <td>5.0</td>\n",
       "      <td>3.0</td>\n",
       "      <td>1.6</td>\n",
       "      <td>0.2</td>\n",
       "      <td>setosa</td>\n",
       "    </tr>\n",
       "    <tr>\n",
       "      <th>26</th>\n",
       "      <td>5.0</td>\n",
       "      <td>3.4</td>\n",
       "      <td>1.6</td>\n",
       "      <td>0.4</td>\n",
       "      <td>setosa</td>\n",
       "    </tr>\n",
       "    <tr>\n",
       "      <th>27</th>\n",
       "      <td>5.2</td>\n",
       "      <td>3.5</td>\n",
       "      <td>1.5</td>\n",
       "      <td>0.2</td>\n",
       "      <td>setosa</td>\n",
       "    </tr>\n",
       "    <tr>\n",
       "      <th>28</th>\n",
       "      <td>5.2</td>\n",
       "      <td>3.4</td>\n",
       "      <td>1.4</td>\n",
       "      <td>0.2</td>\n",
       "      <td>setosa</td>\n",
       "    </tr>\n",
       "    <tr>\n",
       "      <th>29</th>\n",
       "      <td>4.7</td>\n",
       "      <td>3.2</td>\n",
       "      <td>1.6</td>\n",
       "      <td>0.2</td>\n",
       "      <td>setosa</td>\n",
       "    </tr>\n",
       "    <tr>\n",
       "      <th>...</th>\n",
       "      <td>...</td>\n",
       "      <td>...</td>\n",
       "      <td>...</td>\n",
       "      <td>...</td>\n",
       "      <td>...</td>\n",
       "    </tr>\n",
       "    <tr>\n",
       "      <th>120</th>\n",
       "      <td>6.9</td>\n",
       "      <td>3.2</td>\n",
       "      <td>5.7</td>\n",
       "      <td>2.3</td>\n",
       "      <td>virginica</td>\n",
       "    </tr>\n",
       "    <tr>\n",
       "      <th>121</th>\n",
       "      <td>5.6</td>\n",
       "      <td>2.8</td>\n",
       "      <td>4.9</td>\n",
       "      <td>2.0</td>\n",
       "      <td>virginica</td>\n",
       "    </tr>\n",
       "    <tr>\n",
       "      <th>122</th>\n",
       "      <td>7.7</td>\n",
       "      <td>2.8</td>\n",
       "      <td>6.7</td>\n",
       "      <td>2.0</td>\n",
       "      <td>virginica</td>\n",
       "    </tr>\n",
       "    <tr>\n",
       "      <th>123</th>\n",
       "      <td>6.3</td>\n",
       "      <td>2.7</td>\n",
       "      <td>4.9</td>\n",
       "      <td>1.8</td>\n",
       "      <td>virginica</td>\n",
       "    </tr>\n",
       "    <tr>\n",
       "      <th>124</th>\n",
       "      <td>6.7</td>\n",
       "      <td>3.3</td>\n",
       "      <td>5.7</td>\n",
       "      <td>2.1</td>\n",
       "      <td>virginica</td>\n",
       "    </tr>\n",
       "    <tr>\n",
       "      <th>125</th>\n",
       "      <td>7.2</td>\n",
       "      <td>3.2</td>\n",
       "      <td>6.0</td>\n",
       "      <td>1.8</td>\n",
       "      <td>virginica</td>\n",
       "    </tr>\n",
       "    <tr>\n",
       "      <th>126</th>\n",
       "      <td>6.2</td>\n",
       "      <td>2.8</td>\n",
       "      <td>4.8</td>\n",
       "      <td>1.8</td>\n",
       "      <td>virginica</td>\n",
       "    </tr>\n",
       "    <tr>\n",
       "      <th>127</th>\n",
       "      <td>6.1</td>\n",
       "      <td>3.0</td>\n",
       "      <td>4.9</td>\n",
       "      <td>1.8</td>\n",
       "      <td>virginica</td>\n",
       "    </tr>\n",
       "    <tr>\n",
       "      <th>128</th>\n",
       "      <td>6.4</td>\n",
       "      <td>2.8</td>\n",
       "      <td>5.6</td>\n",
       "      <td>2.1</td>\n",
       "      <td>virginica</td>\n",
       "    </tr>\n",
       "    <tr>\n",
       "      <th>129</th>\n",
       "      <td>7.2</td>\n",
       "      <td>3.0</td>\n",
       "      <td>5.8</td>\n",
       "      <td>1.6</td>\n",
       "      <td>virginica</td>\n",
       "    </tr>\n",
       "    <tr>\n",
       "      <th>130</th>\n",
       "      <td>7.4</td>\n",
       "      <td>2.8</td>\n",
       "      <td>6.1</td>\n",
       "      <td>1.9</td>\n",
       "      <td>virginica</td>\n",
       "    </tr>\n",
       "    <tr>\n",
       "      <th>131</th>\n",
       "      <td>7.9</td>\n",
       "      <td>3.8</td>\n",
       "      <td>6.4</td>\n",
       "      <td>2.0</td>\n",
       "      <td>virginica</td>\n",
       "    </tr>\n",
       "    <tr>\n",
       "      <th>132</th>\n",
       "      <td>6.4</td>\n",
       "      <td>2.8</td>\n",
       "      <td>5.6</td>\n",
       "      <td>2.2</td>\n",
       "      <td>virginica</td>\n",
       "    </tr>\n",
       "    <tr>\n",
       "      <th>133</th>\n",
       "      <td>6.3</td>\n",
       "      <td>2.8</td>\n",
       "      <td>5.1</td>\n",
       "      <td>1.5</td>\n",
       "      <td>virginica</td>\n",
       "    </tr>\n",
       "    <tr>\n",
       "      <th>134</th>\n",
       "      <td>6.1</td>\n",
       "      <td>2.6</td>\n",
       "      <td>5.6</td>\n",
       "      <td>1.4</td>\n",
       "      <td>virginica</td>\n",
       "    </tr>\n",
       "    <tr>\n",
       "      <th>135</th>\n",
       "      <td>7.7</td>\n",
       "      <td>3.0</td>\n",
       "      <td>6.1</td>\n",
       "      <td>2.3</td>\n",
       "      <td>virginica</td>\n",
       "    </tr>\n",
       "    <tr>\n",
       "      <th>136</th>\n",
       "      <td>6.3</td>\n",
       "      <td>3.4</td>\n",
       "      <td>5.6</td>\n",
       "      <td>2.4</td>\n",
       "      <td>virginica</td>\n",
       "    </tr>\n",
       "    <tr>\n",
       "      <th>137</th>\n",
       "      <td>6.4</td>\n",
       "      <td>3.1</td>\n",
       "      <td>5.5</td>\n",
       "      <td>1.8</td>\n",
       "      <td>virginica</td>\n",
       "    </tr>\n",
       "    <tr>\n",
       "      <th>138</th>\n",
       "      <td>6.0</td>\n",
       "      <td>3.0</td>\n",
       "      <td>4.8</td>\n",
       "      <td>1.8</td>\n",
       "      <td>virginica</td>\n",
       "    </tr>\n",
       "    <tr>\n",
       "      <th>139</th>\n",
       "      <td>6.9</td>\n",
       "      <td>3.1</td>\n",
       "      <td>5.4</td>\n",
       "      <td>2.1</td>\n",
       "      <td>virginica</td>\n",
       "    </tr>\n",
       "    <tr>\n",
       "      <th>140</th>\n",
       "      <td>6.7</td>\n",
       "      <td>3.1</td>\n",
       "      <td>5.6</td>\n",
       "      <td>2.4</td>\n",
       "      <td>virginica</td>\n",
       "    </tr>\n",
       "    <tr>\n",
       "      <th>141</th>\n",
       "      <td>6.9</td>\n",
       "      <td>3.1</td>\n",
       "      <td>5.1</td>\n",
       "      <td>2.3</td>\n",
       "      <td>virginica</td>\n",
       "    </tr>\n",
       "    <tr>\n",
       "      <th>142</th>\n",
       "      <td>5.8</td>\n",
       "      <td>2.7</td>\n",
       "      <td>5.1</td>\n",
       "      <td>1.9</td>\n",
       "      <td>virginica</td>\n",
       "    </tr>\n",
       "    <tr>\n",
       "      <th>143</th>\n",
       "      <td>6.8</td>\n",
       "      <td>3.2</td>\n",
       "      <td>5.9</td>\n",
       "      <td>2.3</td>\n",
       "      <td>virginica</td>\n",
       "    </tr>\n",
       "    <tr>\n",
       "      <th>144</th>\n",
       "      <td>6.7</td>\n",
       "      <td>3.3</td>\n",
       "      <td>5.7</td>\n",
       "      <td>2.5</td>\n",
       "      <td>virginica</td>\n",
       "    </tr>\n",
       "    <tr>\n",
       "      <th>145</th>\n",
       "      <td>6.7</td>\n",
       "      <td>3.0</td>\n",
       "      <td>5.2</td>\n",
       "      <td>2.3</td>\n",
       "      <td>virginica</td>\n",
       "    </tr>\n",
       "    <tr>\n",
       "      <th>146</th>\n",
       "      <td>6.3</td>\n",
       "      <td>2.5</td>\n",
       "      <td>5.0</td>\n",
       "      <td>1.9</td>\n",
       "      <td>virginica</td>\n",
       "    </tr>\n",
       "    <tr>\n",
       "      <th>147</th>\n",
       "      <td>6.5</td>\n",
       "      <td>3.0</td>\n",
       "      <td>5.2</td>\n",
       "      <td>2.0</td>\n",
       "      <td>virginica</td>\n",
       "    </tr>\n",
       "    <tr>\n",
       "      <th>148</th>\n",
       "      <td>6.2</td>\n",
       "      <td>3.4</td>\n",
       "      <td>5.4</td>\n",
       "      <td>2.3</td>\n",
       "      <td>virginica</td>\n",
       "    </tr>\n",
       "    <tr>\n",
       "      <th>149</th>\n",
       "      <td>5.9</td>\n",
       "      <td>3.0</td>\n",
       "      <td>5.1</td>\n",
       "      <td>1.8</td>\n",
       "      <td>virginica</td>\n",
       "    </tr>\n",
       "  </tbody>\n",
       "</table>\n",
       "<p>150 rows × 5 columns</p>\n",
       "</div>"
      ],
      "text/plain": [
       "     sepal_length  sepal_width  petal_length  petal_width    species\n",
       "0             5.1          3.5           1.4          0.2     setosa\n",
       "1             4.9          3.0           1.4          0.2     setosa\n",
       "2             4.7          3.2           1.3          0.2     setosa\n",
       "3             4.6          3.1           1.5          0.2     setosa\n",
       "4             5.0          3.6           1.4          0.2     setosa\n",
       "5             5.4          3.9           1.7          0.4     setosa\n",
       "6             4.6          3.4           1.4          0.3     setosa\n",
       "7             5.0          3.4           1.5          0.2     setosa\n",
       "8             4.4          2.9           1.4          0.2     setosa\n",
       "9             4.9          3.1           1.5          0.1     setosa\n",
       "10            5.4          3.7           1.5          0.2     setosa\n",
       "11            4.8          3.4           1.6          0.2     setosa\n",
       "12            4.8          3.0           1.4          0.1     setosa\n",
       "13            4.3          3.0           1.1          0.1     setosa\n",
       "14            5.8          4.0           1.2          0.2     setosa\n",
       "15            5.7          4.4           1.5          0.4     setosa\n",
       "16            5.4          3.9           1.3          0.4     setosa\n",
       "17            5.1          3.5           1.4          0.3     setosa\n",
       "18            5.7          3.8           1.7          0.3     setosa\n",
       "19            5.1          3.8           1.5          0.3     setosa\n",
       "20            5.4          3.4           1.7          0.2     setosa\n",
       "21            5.1          3.7           1.5          0.4     setosa\n",
       "22            4.6          3.6           1.0          0.2     setosa\n",
       "23            5.1          3.3           1.7          0.5     setosa\n",
       "24            4.8          3.4           1.9          0.2     setosa\n",
       "25            5.0          3.0           1.6          0.2     setosa\n",
       "26            5.0          3.4           1.6          0.4     setosa\n",
       "27            5.2          3.5           1.5          0.2     setosa\n",
       "28            5.2          3.4           1.4          0.2     setosa\n",
       "29            4.7          3.2           1.6          0.2     setosa\n",
       "..            ...          ...           ...          ...        ...\n",
       "120           6.9          3.2           5.7          2.3  virginica\n",
       "121           5.6          2.8           4.9          2.0  virginica\n",
       "122           7.7          2.8           6.7          2.0  virginica\n",
       "123           6.3          2.7           4.9          1.8  virginica\n",
       "124           6.7          3.3           5.7          2.1  virginica\n",
       "125           7.2          3.2           6.0          1.8  virginica\n",
       "126           6.2          2.8           4.8          1.8  virginica\n",
       "127           6.1          3.0           4.9          1.8  virginica\n",
       "128           6.4          2.8           5.6          2.1  virginica\n",
       "129           7.2          3.0           5.8          1.6  virginica\n",
       "130           7.4          2.8           6.1          1.9  virginica\n",
       "131           7.9          3.8           6.4          2.0  virginica\n",
       "132           6.4          2.8           5.6          2.2  virginica\n",
       "133           6.3          2.8           5.1          1.5  virginica\n",
       "134           6.1          2.6           5.6          1.4  virginica\n",
       "135           7.7          3.0           6.1          2.3  virginica\n",
       "136           6.3          3.4           5.6          2.4  virginica\n",
       "137           6.4          3.1           5.5          1.8  virginica\n",
       "138           6.0          3.0           4.8          1.8  virginica\n",
       "139           6.9          3.1           5.4          2.1  virginica\n",
       "140           6.7          3.1           5.6          2.4  virginica\n",
       "141           6.9          3.1           5.1          2.3  virginica\n",
       "142           5.8          2.7           5.1          1.9  virginica\n",
       "143           6.8          3.2           5.9          2.3  virginica\n",
       "144           6.7          3.3           5.7          2.5  virginica\n",
       "145           6.7          3.0           5.2          2.3  virginica\n",
       "146           6.3          2.5           5.0          1.9  virginica\n",
       "147           6.5          3.0           5.2          2.0  virginica\n",
       "148           6.2          3.4           5.4          2.3  virginica\n",
       "149           5.9          3.0           5.1          1.8  virginica\n",
       "\n",
       "[150 rows x 5 columns]"
      ]
     },
     "execution_count": 2,
     "metadata": {},
     "output_type": "execute_result"
    }
   ],
   "source": [
    "iris_data = sns.load_dataset('iris')\n",
    "iris_data"
   ]
  },
  {
   "cell_type": "markdown",
   "metadata": {},
   "source": [
    "\n",
    "The Iris data set, or Fisher’s Iris data set, was introduced by the researcher Ronald Fisher in his paper **The Use of Multiple Measurements in Taxonomic Problems** in 1936. The data set contains the measurements of the plant's Sepal and Petal widths and lengths from three species of Iris. The ‘columns’ attribute can be used to see the possible covariates:"
   ]
  },
  {
   "cell_type": "code",
   "execution_count": 3,
   "metadata": {},
   "outputs": [
    {
     "data": {
      "text/plain": [
       "Index(['sepal_length', 'sepal_width', 'petal_length', 'petal_width',\n",
       "       'species'],\n",
       "      dtype='object')"
      ]
     },
     "execution_count": 3,
     "metadata": {},
     "output_type": "execute_result"
    }
   ],
   "source": [
    "iris_data.columns"
   ]
  },
  {
   "cell_type": "markdown",
   "metadata": {},
   "source": [
    "\n",
    "\n",
    "An important prerequisite to an analysis is to gain familiarization with the data set. Pandas provides a plethora of useful function for this purpose, however in this notebook we’ll only use a few. To start we can take a peek at the first 5 rows of the data set by calling the ‘head’ function:"
   ]
  },
  {
   "cell_type": "code",
   "execution_count": 4,
   "metadata": {},
   "outputs": [
    {
     "data": {
      "text/html": [
       "<div>\n",
       "<style scoped>\n",
       "    .dataframe tbody tr th:only-of-type {\n",
       "        vertical-align: middle;\n",
       "    }\n",
       "\n",
       "    .dataframe tbody tr th {\n",
       "        vertical-align: top;\n",
       "    }\n",
       "\n",
       "    .dataframe thead th {\n",
       "        text-align: right;\n",
       "    }\n",
       "</style>\n",
       "<table border=\"1\" class=\"dataframe\">\n",
       "  <thead>\n",
       "    <tr style=\"text-align: right;\">\n",
       "      <th></th>\n",
       "      <th>sepal_length</th>\n",
       "      <th>sepal_width</th>\n",
       "      <th>petal_length</th>\n",
       "      <th>petal_width</th>\n",
       "      <th>species</th>\n",
       "    </tr>\n",
       "  </thead>\n",
       "  <tbody>\n",
       "    <tr>\n",
       "      <th>0</th>\n",
       "      <td>5.1</td>\n",
       "      <td>3.5</td>\n",
       "      <td>1.4</td>\n",
       "      <td>0.2</td>\n",
       "      <td>setosa</td>\n",
       "    </tr>\n",
       "    <tr>\n",
       "      <th>1</th>\n",
       "      <td>4.9</td>\n",
       "      <td>3.0</td>\n",
       "      <td>1.4</td>\n",
       "      <td>0.2</td>\n",
       "      <td>setosa</td>\n",
       "    </tr>\n",
       "    <tr>\n",
       "      <th>2</th>\n",
       "      <td>4.7</td>\n",
       "      <td>3.2</td>\n",
       "      <td>1.3</td>\n",
       "      <td>0.2</td>\n",
       "      <td>setosa</td>\n",
       "    </tr>\n",
       "    <tr>\n",
       "      <th>3</th>\n",
       "      <td>4.6</td>\n",
       "      <td>3.1</td>\n",
       "      <td>1.5</td>\n",
       "      <td>0.2</td>\n",
       "      <td>setosa</td>\n",
       "    </tr>\n",
       "    <tr>\n",
       "      <th>4</th>\n",
       "      <td>5.0</td>\n",
       "      <td>3.6</td>\n",
       "      <td>1.4</td>\n",
       "      <td>0.2</td>\n",
       "      <td>setosa</td>\n",
       "    </tr>\n",
       "  </tbody>\n",
       "</table>\n",
       "</div>"
      ],
      "text/plain": [
       "   sepal_length  sepal_width  petal_length  petal_width species\n",
       "0           5.1          3.5           1.4          0.2  setosa\n",
       "1           4.9          3.0           1.4          0.2  setosa\n",
       "2           4.7          3.2           1.3          0.2  setosa\n",
       "3           4.6          3.1           1.5          0.2  setosa\n",
       "4           5.0          3.6           1.4          0.2  setosa"
      ]
     },
     "execution_count": 4,
     "metadata": {},
     "output_type": "execute_result"
    }
   ],
   "source": [
    "iris_data.head()"
   ]
  },
  {
   "cell_type": "markdown",
   "metadata": {},
   "source": [
    "At first glance we can see that the data set contains four columns with numerical values, these can be used to find patterns in the data; Because the data set contains a column ‘species’ with categorical variables, it looks like we can build a model to classify our categorical values: species. To confirm our suspicions on the data we'll call the function 'info'"
   ]
  },
  {
   "cell_type": "code",
   "execution_count": 5,
   "metadata": {},
   "outputs": [
    {
     "name": "stdout",
     "output_type": "stream",
     "text": [
      "<class 'pandas.core.frame.DataFrame'>\n",
      "RangeIndex: 150 entries, 0 to 149\n",
      "Data columns (total 5 columns):\n",
      "sepal_length    150 non-null float64\n",
      "sepal_width     150 non-null float64\n",
      "petal_length    150 non-null float64\n",
      "petal_width     150 non-null float64\n",
      "species         150 non-null object\n",
      "dtypes: float64(4), object(1)\n",
      "memory usage: 5.9+ KB\n"
     ]
    }
   ],
   "source": [
    "iris_data.info()"
   ]
  },
  {
   "cell_type": "markdown",
   "metadata": {},
   "source": [
    "The ‘info’ function summarizes that data set. We can see that the data set contains 5 columns in total, 4 of which are of type ‘float64’ and one column of type object. To see the type of data within the *'species'* column, we can extract the first entry from *'species'*  by calling the iloc function (integer location) and extract the first entry from the DataFrame :"
   ]
  },
  {
   "cell_type": "code",
   "execution_count": 6,
   "metadata": {},
   "outputs": [
    {
     "data": {
      "text/plain": [
       "str"
      ]
     },
     "execution_count": 6,
     "metadata": {},
     "output_type": "execute_result"
    }
   ],
   "source": [
    "type(iris_data[['species']].iloc[0, 0])"
   ]
  },
  {
   "cell_type": "markdown",
   "metadata": {},
   "source": [
    "To see how many unique values:"
   ]
  },
  {
   "cell_type": "code",
   "execution_count": 7,
   "metadata": {},
   "outputs": [
    {
     "data": {
      "text/plain": [
       "array(['setosa', 'versicolor', 'virginica'], dtype=object)"
      ]
     },
     "execution_count": 7,
     "metadata": {},
     "output_type": "execute_result"
    }
   ],
   "source": [
    "iris_data['species'].unique()"
   ]
  },
  {
   "cell_type": "markdown",
   "metadata": {},
   "source": [
    "Also, since we know that we have 4 columns of type float64, calling the 'describe' function returns a few summary statistics in regards to these columns that might be useful :"
   ]
  },
  {
   "cell_type": "code",
   "execution_count": 8,
   "metadata": {},
   "outputs": [
    {
     "data": {
      "text/html": [
       "<div>\n",
       "<style scoped>\n",
       "    .dataframe tbody tr th:only-of-type {\n",
       "        vertical-align: middle;\n",
       "    }\n",
       "\n",
       "    .dataframe tbody tr th {\n",
       "        vertical-align: top;\n",
       "    }\n",
       "\n",
       "    .dataframe thead th {\n",
       "        text-align: right;\n",
       "    }\n",
       "</style>\n",
       "<table border=\"1\" class=\"dataframe\">\n",
       "  <thead>\n",
       "    <tr style=\"text-align: right;\">\n",
       "      <th></th>\n",
       "      <th>sepal_length</th>\n",
       "      <th>sepal_width</th>\n",
       "      <th>petal_length</th>\n",
       "      <th>petal_width</th>\n",
       "    </tr>\n",
       "  </thead>\n",
       "  <tbody>\n",
       "    <tr>\n",
       "      <th>count</th>\n",
       "      <td>150.000000</td>\n",
       "      <td>150.000000</td>\n",
       "      <td>150.000000</td>\n",
       "      <td>150.000000</td>\n",
       "    </tr>\n",
       "    <tr>\n",
       "      <th>mean</th>\n",
       "      <td>5.843333</td>\n",
       "      <td>3.057333</td>\n",
       "      <td>3.758000</td>\n",
       "      <td>1.199333</td>\n",
       "    </tr>\n",
       "    <tr>\n",
       "      <th>std</th>\n",
       "      <td>0.828066</td>\n",
       "      <td>0.435866</td>\n",
       "      <td>1.765298</td>\n",
       "      <td>0.762238</td>\n",
       "    </tr>\n",
       "    <tr>\n",
       "      <th>min</th>\n",
       "      <td>4.300000</td>\n",
       "      <td>2.000000</td>\n",
       "      <td>1.000000</td>\n",
       "      <td>0.100000</td>\n",
       "    </tr>\n",
       "    <tr>\n",
       "      <th>25%</th>\n",
       "      <td>5.100000</td>\n",
       "      <td>2.800000</td>\n",
       "      <td>1.600000</td>\n",
       "      <td>0.300000</td>\n",
       "    </tr>\n",
       "    <tr>\n",
       "      <th>50%</th>\n",
       "      <td>5.800000</td>\n",
       "      <td>3.000000</td>\n",
       "      <td>4.350000</td>\n",
       "      <td>1.300000</td>\n",
       "    </tr>\n",
       "    <tr>\n",
       "      <th>75%</th>\n",
       "      <td>6.400000</td>\n",
       "      <td>3.300000</td>\n",
       "      <td>5.100000</td>\n",
       "      <td>1.800000</td>\n",
       "    </tr>\n",
       "    <tr>\n",
       "      <th>max</th>\n",
       "      <td>7.900000</td>\n",
       "      <td>4.400000</td>\n",
       "      <td>6.900000</td>\n",
       "      <td>2.500000</td>\n",
       "    </tr>\n",
       "  </tbody>\n",
       "</table>\n",
       "</div>"
      ],
      "text/plain": [
       "       sepal_length  sepal_width  petal_length  petal_width\n",
       "count    150.000000   150.000000    150.000000   150.000000\n",
       "mean       5.843333     3.057333      3.758000     1.199333\n",
       "std        0.828066     0.435866      1.765298     0.762238\n",
       "min        4.300000     2.000000      1.000000     0.100000\n",
       "25%        5.100000     2.800000      1.600000     0.300000\n",
       "50%        5.800000     3.000000      4.350000     1.300000\n",
       "75%        6.400000     3.300000      5.100000     1.800000\n",
       "max        7.900000     4.400000      6.900000     2.500000"
      ]
     },
     "execution_count": 8,
     "metadata": {},
     "output_type": "execute_result"
    }
   ],
   "source": [
    "iris_data.describe()"
   ]
  },
  {
   "cell_type": "markdown",
   "metadata": {},
   "source": [
    "To get a visual representation of the relationships within the dataset, Seaborn has a convenient function “pairplot” that plots on the x axis each column and on the y axis a corresponding covariate. This is useful for finding visual relationships between covariates within the data set :"
   ]
  },
  {
   "cell_type": "code",
   "execution_count": 9,
   "metadata": {},
   "outputs": [
    {
     "data": {
      "text/plain": [
       "<seaborn.axisgrid.PairGrid at 0x10b2c5b38>"
      ]
     },
     "execution_count": 9,
     "metadata": {},
     "output_type": "execute_result"
    },
    {
     "data": {
      "image/png": "[encoded data removed]",
      "text/plain": [
       "<matplotlib.figure.Figure at 0x10b325828>"
      ]
     },
     "metadata": {},
     "output_type": "display_data"
    }
   ],
   "source": [
    "sns.pairplot(iris_data)"
   ]
  },
  {
   "cell_type": "markdown",
   "metadata": {},
   "source": [
    "The pair plot shows a strong relationship between ‘petal_length’ and ‘petal_width’, ‘sepall_length’ and ‘petal_width’, ‘sepal_length’, and ‘petal_length’. This is an important information, if we were to run a Linear Regression on this data set, there would be a high rate of collinearity between covariates and therefore violating the BLUE assumptions of Linear Regression making the analysis statistically weak."
   ]
  },
  {
   "cell_type": "markdown",
   "metadata": {},
   "source": [
    "\n",
    "\n",
    "A good analysis strategy would be to run a classification algorithm that will take as inputs measurements of the iris species and return a prediction of what specie of Iris it is. From the plots above, there are indications of clusters. For instance, 'petal_length' and 'petal_width' have a clear divide. In this case one can argue that a certain specie of iris tends to have smaller 'petal_length\" and smaller \"petal_width.\" To see the plot we can divide the data set into 3 subsets corresponding to species of Irishen plot the results."
   ]
  },
  {
   "cell_type": "code",
   "execution_count": 10,
   "metadata": {},
   "outputs": [
    {
     "data": {
      "image/png": "[encoded data removed]",
      "text/plain": [
       "<matplotlib.figure.Figure at 0x10ba5b320>"
      ]
     },
     "metadata": {},
     "output_type": "display_data"
    }
   ],
   "source": [
    "# Dividing DataFrame into 3 with corresponding species \n",
    "setosa = iris_data[iris_data['species'] == 'setosa']\n",
    "versicolor = iris_data[iris_data['species'] == 'versicolor']\n",
    "virginica = iris_data[iris_data['species'] == 'virginica']\n",
    "\n",
    "# plotting 1\n",
    "fig = plt.figure()\n",
    "ax1 = fig.add_subplot(111)\n",
    "ax1.scatter(setosa.petal_width, setosa.petal_length ,c='b', label='setosa')\n",
    "ax1.scatter(versicolor.petal_width, versicolor.petal_length , c='r', label='versicolor')\n",
    "ax1.scatter(virginica.petal_width, virginica.petal_length , c='y', label='virginica')\n",
    "plt.legend(loc='upper left')\n",
    "plt.title('Petal Length vs Petal Width')\n",
    "plt.ylabel('petal_length')\n",
    "plt.xlabel('petal_width')\n",
    "plt.show()"
   ]
  },
  {
   "cell_type": "markdown",
   "metadata": {},
   "source": [
    "As it turns out, the specie with smallest 'petal_length' and 'petal_width' is the Setosa. Another cluster seems to occur with 'sepal_width' and 'petal_width' and 'sepal_length' and 'sepal_width':"
   ]
  },
  {
   "cell_type": "code",
   "execution_count": 11,
   "metadata": {},
   "outputs": [
    {
     "data": {
      "image/png": "[encoded data removed]",
      "text/plain": [
       "<matplotlib.figure.Figure at 0x10be6d5f8>"
      ]
     },
     "metadata": {},
     "output_type": "display_data"
    }
   ],
   "source": [
    "# plotting 2\n",
    "fig = plt.figure()\n",
    "ax1 = fig.add_subplot(111)\n",
    "ax1.scatter(setosa.sepal_width, setosa.petal_width ,c='b', label='setosa')\n",
    "ax1.scatter(versicolor.sepal_width, versicolor.petal_width , c='r', label='versicolor')\n",
    "ax1.scatter(virginica.sepal_width, virginica.petal_width , c='y', label='virginica')\n",
    "plt.legend(loc='upper left')\n",
    "plt.title('Petal Width vs Sepal Width')\n",
    "plt.ylabel('petal_width')\n",
    "plt.xlabel('sepal_width')\n",
    "plt.show()"
   ]
  },
  {
   "cell_type": "code",
   "execution_count": 12,
   "metadata": {},
   "outputs": [
    {
     "data": {
      "image/png": "[encoded data removed]",
      "text/plain": [
       "<matplotlib.figure.Figure at 0x10b522278>"
      ]
     },
     "metadata": {},
     "output_type": "display_data"
    }
   ],
   "source": [
    "# plotting 3\n",
    "fig = plt.figure()\n",
    "ax1 = fig.add_subplot(111)\n",
    "ax1.scatter(setosa.sepal_length, setosa.sepal_width ,c='b', label='setosa')\n",
    "ax1.scatter(versicolor.sepal_length, versicolor.sepal_width , c='r', label='versicolor')\n",
    "ax1.scatter(virginica.sepal_length, virginica.sepal_width , c='y', label='virginica')\n",
    "plt.legend(loc='upper left')\n",
    "plt.title('Sepal Length vs Sepal Width')\n",
    "plt.ylabel('sepal_width')\n",
    "plt.xlabel('sepal_length')\n",
    "plt.show()"
   ]
  },
  {
   "cell_type": "markdown",
   "metadata": {},
   "source": [
    "The clusters between the 'Versicoplor' and 'Virginica', while ambiguous, seem to exist. A simple way to classify these clusters is by means of lines that act as bounds separating each cluster. Given these lines we can later classify a data entry to a specie based on which side of the line the point lies in."
   ]
  },
  {
   "cell_type": "markdown",
   "metadata": {
    "collapsed": true
   },
   "source": [
    "\n",
    "\n",
    "Support Vector Machines (SVM) are very useful for small data sets. SVM's work by finding a line of best fit based off of an orthogonal Weight Vector that determines the classification boundary, in other words a line that classifies based on where a data point resides. Because a line can be written in matrix form \n",
    "$$W \\cdot X + b_0= 0$$  \n",
    "\n",
    "This is the line we are trying to find :\n",
    "![img](http://www.ikddm.com/wp-content/uploads/2016/10/svm2.png)\n",
    "\n",
    "To find this line we need to maximize the distance from the \"Support Vectors\" to the decision boundary i.e :\n",
    "\n",
    "$$\\min \\frac{||{w}||^2}{2}$$ \n",
    "given that $$y_n = (w^{T}*x_n + b) >= n$$\n",
    "\n",
    "where $ n = 1, .., N$\n",
    "\n",
    "This optimization can be done with Lagrange multipliers but gets complicated quickly. The Scikit Learn Module (sklearn) has an SVM classifier object that can run this classification algorithm without much hassle. First we'll start by importing the dependencies."
   ]
  },
  {
   "cell_type": "code",
   "execution_count": 13,
   "metadata": {
    "collapsed": true
   },
   "outputs": [],
   "source": [
    "from sklearn.model_selection import train_test_split\n",
    "from sklearn import svm, metrics\n",
    "from sklearn.metrics import classification_report, confusion_matrix"
   ]
  },
  {
   "cell_type": "markdown",
   "metadata": {
    "collapsed": true
   },
   "source": [
    "\n",
    "Then we'll start with reformatting the data so that it works well with the classifier from sklearn. A basic SVM can only classify binary data so we will use a One vs All approach. We will have to build three classifiers where each have their own target classification and the rest are treated as 0 values. We'll start with classifying the \"Virginica\" category against Setosa and Versicolor. To do so we'll create an X_data variable that holds all numerical values of the Iris data set. Then we'll create a vector that holds all the indecies where \"virginica\" is an entry and encode all \"virginica\" entries as 1, all else as 0."
   ]
  },
  {
   "cell_type": "code",
   "execution_count": 14,
   "metadata": {
    "collapsed": true
   },
   "outputs": [],
   "source": [
    "# Data Frame without Species Column\n",
    "X_data = iris_data.iloc[:, :-1]\n",
    "# A column vector with 1 for \"virginica\" and 0 otherwise\n",
    "y_virginica = np.array([iris_data.iloc[:, -1] == \"virginica\"]).astype(float).flatten()"
   ]
  },
  {
   "cell_type": "markdown",
   "metadata": {
    "collapsed": true
   },
   "source": [
    "Next we will use the \"train_test_split\" function from the sklearn library that sudo randomly separates the original data set into: 80% training data and 20% reserved to test the model."
   ]
  },
  {
   "cell_type": "code",
   "execution_count": 15,
   "metadata": {
    "collapsed": true
   },
   "outputs": [],
   "source": [
    "# Spliting data\n",
    "X_train, X_test, y_train, y_test = train_test_split(X_data, y_virginica, test_size=0.2)"
   ]
  },
  {
   "cell_type": "markdown",
   "metadata": {},
   "source": [
    "Next we'll create an SVM object and train it using the separated data from train_test_split"
   ]
  },
  {
   "cell_type": "code",
   "execution_count": 16,
   "metadata": {},
   "outputs": [
    {
     "data": {
      "text/plain": [
       "SVC(C=1.0, cache_size=200, class_weight=None, coef0=0.0,\n",
       "  decision_function_shape='ovr', degree=3, gamma='auto', kernel='linear',\n",
       "  max_iter=-1, probability=False, random_state=None, shrinking=True,\n",
       "  tol=0.001, verbose=False)"
      ]
     },
     "execution_count": 16,
     "metadata": {},
     "output_type": "execute_result"
    }
   ],
   "source": [
    "# Initializing classifier object \n",
    "classifier = svm.SVC(kernel='linear')\n",
    "classifier.fit(X_train, y_train)"
   ]
  },
  {
   "cell_type": "markdown",
   "metadata": {},
   "source": [
    "\n",
    "\n",
    "Now that the model is trained, we can pass in testing data to the 'predict' function; The predict function returns a vector of predicted values. I will also print the first 10 rows of a DataFrame that contains the testing labels and predicted labels side by side to get a feel of the level of accuracy the trained model has. Next the Confusion Matrix and Classification Report are printed for testing data."
   ]
  },
  {
   "cell_type": "code",
   "execution_count": 17,
   "metadata": {},
   "outputs": [
    {
     "name": "stdout",
     "output_type": "stream",
     "text": [
      "       0\n",
      "1.0  1.0\n",
      "0.0  0.0\n",
      "0.0  0.0\n",
      "1.0  1.0\n",
      "1.0  1.0\n",
      "0.0  0.0\n",
      "0.0  0.0\n",
      "0.0  1.0\n",
      "1.0  0.0\n",
      "0.0  0.0\n",
      "\n",
      "\n",
      "[[17  2]\n",
      " [ 1 10]]\n",
      "             precision    recall  f1-score   support\n",
      "\n",
      "        0.0       0.94      0.89      0.92        19\n",
      "        1.0       0.83      0.91      0.87        11\n",
      "\n",
      "avg / total       0.90      0.90      0.90        30\n",
      "\n",
      "Testing Accuracy: 90.0\n"
     ]
    }
   ],
   "source": [
    "# Classification Accuracy from Testing Data\n",
    "predicted = classifier.predict(X_test)\n",
    "test = metrics.accuracy_score(y_test, predicted) * 100\n",
    "\n",
    "\n",
    "print(pd.DataFrame(y_test, predicted).head(10))\n",
    "print('\\n')\n",
    "print(confusion_matrix(y_test, predicted))\n",
    "print(classification_report(y_test, predicted))\n",
    "\n",
    "print('Testing Accuracy: ' + str(test))"
   ]
  },
  {
   "cell_type": "markdown",
   "metadata": {},
   "source": [
    "The confusion matrix, sometimes referred to as the error matrix, has the structure \n",
    "\n",
    "![img](https://qph.fs.quoracdn.net/main-qimg-84121cf5638cbb5919999b2a8d928c91)\n",
    "\n",
    "Where the columns are the predicted values and rows the actual values. This is an example for a binary classifier so the matrix will be of size 2x2. For this classifier, the SVM model classified the 17 \"Non-virginica\" instances correctly as \"Non-virginica\" and 10 \"virginica\" correctly. The Recall is the ratio between the total number of instances predicted correctly for a given class and the total number of class examples. The precision is the ratio of correctly classified instances for a given class and the total number of predicted values for a given class. The F1-score is the mean of both the precision and recall, it tries to provide a holistic measure of type 1 and type 2 errors through the precision and recall values. The support is simply the number of instances per class.\n",
    "\n",
    "The results for this class are very good. Now we have to repeat for \"Versicolor\" and \"Setosa\":"
   ]
  },
  {
   "cell_type": "code",
   "execution_count": 29,
   "metadata": {},
   "outputs": [
    {
     "name": "stdout",
     "output_type": "stream",
     "text": [
      "[[19  2]\n",
      " [ 7  2]]\n",
      "             precision    recall  f1-score   support\n",
      "\n",
      "        0.0       0.73      0.90      0.81        21\n",
      "        1.0       0.50      0.22      0.31         9\n",
      "\n",
      "avg / total       0.66      0.70      0.66        30\n",
      "\n",
      "Testing Accuracy: 70.0\n"
     ]
    }
   ],
   "source": [
    "# Versicolor\n",
    "y_versicolor = np.array([iris_data.iloc[:, -1] == \"versicolor\"]).astype(float).flatten()\n",
    "\n",
    "# Spliting Data\n",
    "X_train, X_test, y_train, y_test = train_test_split(X_data, y_versicolor, test_size=0.2)\n",
    "\n",
    "# Initializing classifier object \n",
    "classifier = svm.SVC(kernel='linear')\n",
    "classifier.fit(X_train, y_train)\n",
    "\n",
    "# Classification Accuracy from Testing Data\n",
    "predicted = classifier.predict(X_test)\n",
    "test = metrics.accuracy_score(y_test, predicted) * 100\n",
    "\n",
    "print(confusion_matrix(y_test, predicted))\n",
    "print(classification_report(y_test, predicted))\n",
    "\n",
    "print('Testing Accuracy: ' + str(test))"
   ]
  },
  {
   "cell_type": "code",
   "execution_count": 19,
   "metadata": {},
   "outputs": [
    {
     "name": "stdout",
     "output_type": "stream",
     "text": [
      "[[18  0]\n",
      " [ 0 12]]\n",
      "             precision    recall  f1-score   support\n",
      "\n",
      "        0.0       1.00      1.00      1.00        18\n",
      "        1.0       1.00      1.00      1.00        12\n",
      "\n",
      "avg / total       1.00      1.00      1.00        30\n",
      "\n",
      "Testing Accuracy: 100.0\n"
     ]
    }
   ],
   "source": [
    "# Setosa\n",
    "y_setosa = np.array([iris_data.iloc[:, -1] == \"setosa\"]).astype(float).flatten()\n",
    "\n",
    "# Spliting Data\n",
    "X_train, X_test, y_train, y_test = train_test_split(X_data, y_setosa, test_size=0.2)\n",
    "\n",
    "# Initializing classifier object \n",
    "classifier = svm.SVC(kernel='linear')\n",
    "classifier.fit(X_train, y_train)\n",
    "\n",
    "# Classification Accuracy from Testing Data\n",
    "predicted = classifier.predict(X_test)\n",
    "test = metrics.accuracy_score(y_test, predicted) * 100\n",
    "\n",
    "print(confusion_matrix(y_test, predicted))\n",
    "print(classification_report(y_test, predicted))\n",
    "\n",
    "print('Testing Accuracy: ' + str(test))"
   ]
  },
  {
   "cell_type": "markdown",
   "metadata": {},
   "source": [
    "The SVM model seems to work well for the 'Virginica' and 'Setosa' categories. This is because 'Virginica' and 'Setosa' tend to have clusters with distinct values, and are on the corners of the graphs, they, therefore, can classify well. 'Versicolor' is an interesting category, the Type 2 errors are 7 and Type 1 is 2. Because the Recall is the proportion of the correctly predicted over the total of a given label it's recall, for the right classification, is .22. The precision is not decent. The overlaps \"Virginica\" has with the \"Versicolor\" can explain this result."
   ]
  },
  {
   "cell_type": "markdown",
   "metadata": {},
   "source": [
    "## Logistic and Multiclass Logistic Regression  \n",
    "\n",
    "A Logistic Regression can also be used to classify binary outcomes. The Logistic Regression model employs a sigmoid function to derive its classification and can be represented as a probability : \n",
    "\n",
    "$$P(y = C_1 | X) = \\sigma{(W^T\\cdot{x} + w_0)}$$\n",
    "\n",
    "where $\\sigma{(W^T\\cdot{x} + w_0)}$ is the inverse Logit function:\n",
    "\n",
    "$$\\sigma{(W^T\\cdot{x} + w_0)} = \\frac{1}{1 + e^{-(W^T\\cdot{x} + w_0)}}$$\n",
    "\n",
    "We can include the extra $w_0$ within the $W$ matrix to account for the bias, or intercept weight component. For the posterior probability of another class:\n",
    "\n",
    "$$P(y = C_2 | X) = 1-P(y = C_1 | X)$$\n",
    "\n",
    "To get the likelihood we can use the Binomial Distribution, however we would have to use it for only two values:\n",
    "\n",
    "$$P( Y | X) = \\prod_{n=1}^{N}  (W^T\\cdot{X})_{n}^{y_n}* (1 - (W^T\\cdot{X})_{n})^{1-y_n}$$\n",
    "\n",
    "To derive an error function for this likelihood function, a log transformation must be taken to change the product to a summation. From this a Gradient Decent optimization can be used to find the optimal weight vectors. To classify the Iris data set we need to build 3 individual classifiers using a One vs All approach.\n",
    "\n",
    "\n",
    "\n",
    "The **Direct Multiclass Logistic Regression** allows for a more Bayesian approach when calculating the posterior probabilities for classification. With this approach to Logistic Regression only one gradient descent optimization is needed. Instead of using the Inverse Logit Function, the Multiclass Logistic Regression uses a Softmax Transformation :\n",
    "\n",
    "$$P(y = C_k | X) = \\frac{e^(W_k^T\\cdot{x})}{\\sum_{j=1}^{K}e^(W_j^T\\cdot{x})}$$\n",
    "\n",
    "If we commit to transforming the 'species' column to dummy variables then a likelihood function can be derived as :\n",
    "\n",
    "$$ P(Y | w_1, ..., w_k) = \\prod_{n=1}^{N}\\prod_{k=1}^{K} P(y = C_k|X_n)^{y_{nk}} $$\n",
    "\n",
    "where $Y$ is a matrix with dimensions $N\\times K$ because of the dummy variable transformation. For gradient decent to work we need the Cross-Entropy Error Function. Appling a log to the Likelihood function allows for the removal of the products since summations are much easier for computers to work with :\n",
    "\n",
    "$$ -\\log(P(Y | w_1, ..., w_k))$$\n",
    "\n",
    "$$ = - \\sum_{n=1}^{N}\\sum_{k=1}^{K} y_nk\\log{(P(y = C_k | X))} $$ \n",
    "\n",
    "Next the gradient of the Log Likelihood function is needed to run the Gradient Descent:\n",
    "\n",
    "$$ \\frac{\\partial}{\\partial{W_k}}{[- \\sum_{n=1}^{N}\\sum_{k=1}^{K} y_nk\\log{(P(y = C_k | X))}]}$$\n",
    "\n",
    "$$ = \\sum_{n=1}^{N}(P(y = C_k | X)_n - y_{nk})X_n$$\n",
    "\n",
    "Weights Update Function for this Stochastic Gradient Decent is:\n",
    "\n",
    "$$ W_{k, updated} = W_{k, prev} - \\eta \\frac{\\partial}{\\partial W_k}[\\sum_{n=1}^{N}(P(y = C_k | X)_n - y_{nk})X_n]$$\n",
    "Where $\\eta$ is the Learning Rate\n",
    "\n",
    "A far more detailed explanation can be found here: \n",
    "http://www.cedar.buffalo.edu/~srihari/CSE574/Chap4/4.3.4-MultiLogistic.pdf"
   ]
  },
  {
   "cell_type": "markdown",
   "metadata": {},
   "source": [
    "Implementing the Posterior distribution, in this case the SoftMax Transformation \n",
    "$$P(y = C_k | X) = \\frac{e^{(W_k^T\\cdot{x})}}{\\sum_{j=1}^{K}e^{(W_j^T\\cdot{x})}}:$$"
   ]
  },
  {
   "cell_type": "code",
   "execution_count": 20,
   "metadata": {
    "collapsed": true
   },
   "outputs": [],
   "source": [
    "def posteriorProb(W, data):\n",
    "    \"\"\"\n",
    "    Calculates the posterior probability\n",
    "    \n",
    "    Keywords:\n",
    "    W: Weight Vector\n",
    "    data: the input data\n",
    "    out: the Probability of the corresponding category from the weight vector\n",
    "    \"\"\"\n",
    "\n",
    "\n",
    "    kth_weight = np.exp(np.dot(data, W))\n",
    "\n",
    "    denominator = np.sum(np.exp(np.dot(data, W)), axis=1).reshape(len(data), 1)\n",
    "\n",
    "    return kth_weight/denominator"
   ]
  },
  {
   "cell_type": "markdown",
   "metadata": {},
   "source": [
    "Cross-Entropy Error function\n",
    "$$ = - \\sum_{n=1}^{N}\\sum_{k=1}^{K} y_{nk}\\log{(P(y = C_k | X))} :$$ \n"
   ]
  },
  {
   "cell_type": "code",
   "execution_count": 21,
   "metadata": {
    "collapsed": true
   },
   "outputs": [],
   "source": [
    "def crossEntropy(weight_vec, data, labels):\n",
    "    \"\"\"\n",
    "    Returns the error value from the error function and the proability\n",
    "    of the category occuring from a given weight matrix.\n",
    "    \n",
    "    Keywords:\n",
    "    weight_vec: weight matrix for data set's features\n",
    "    data: the input data\n",
    "    out: Tuple with (Cross-Entroy Error, Posterior probability)\n",
    "    \"\"\"\n",
    "    \n",
    "    posterior = posteriorProb(weight_vec, data)\n",
    "    \n",
    "    return -np.sum(np.sum(np.multiply(labels, np.log(posterior)))), posterior"
   ]
  },
  {
   "cell_type": "markdown",
   "metadata": {},
   "source": [
    "Gradient Function\n",
    "$$ = \\sum_{n=1}^{N}(P(y = C_k | X)_n - y_{nk})X_n:$$"
   ]
  },
  {
   "cell_type": "code",
   "execution_count": 22,
   "metadata": {
    "collapsed": true
   },
   "outputs": [],
   "source": [
    "def gradient(data, labels, posterior):\n",
    "    \"\"\"\n",
    "    Returns the weight matricies for each category. \n",
    "    \n",
    "    Keywords:\n",
    "    data: the input data\n",
    "    labels: vector with corresponding labels from the given data\n",
    "    posterior: probability of category occuring\n",
    "    out: A vector with category weight vectors stacked in descending order\n",
    "    \"\"\"\n",
    "    \n",
    "    \n",
    "    error_grad = (np.dot(data.T, np.subtract(posterior, labels)))\n",
    "\n",
    "    return error_grad.reshape(error_grad.shape[0], error_grad.shape[1]).flatten()"
   ]
  },
  {
   "cell_type": "markdown",
   "metadata": {},
   "source": [
    "The 'minimize' function from the Scipy Module can be used to find the optimal Weight vectors with Gradient Descent. The minimize function requires an Objective function and an initial Weight vector. The Objective function will calculate and return the error and error_gradient vector for a given iteration. Scipy will use these results to find an optimal Weight vector."
   ]
  },
  {
   "cell_type": "code",
   "execution_count": 23,
   "metadata": {
    "collapsed": true
   },
   "outputs": [],
   "source": [
    "def objective_Function(weights, *args):\n",
    "    \"\"\"\n",
    "    Returns error value and the gradient of the Weight matricies. \n",
    "    \n",
    "    Keywords:\n",
    "    weights: Weights matricies\n",
    "    args: traning data, training labels\n",
    "    out: Cross-Entropy Error, gradient of Weight matricies \n",
    "    \"\"\"\n",
    "    \n",
    "    data_matrix, label_vector = args\n",
    "    n_data = data_matrix.shape[0]\n",
    "    n_feature = data_matrix.shape[1]\n",
    "\n",
    "    X_bias = np.hstack((np.ones((n_data,1)), data_matrix))\n",
    "    weights = weights.reshape(n_feature + 1,n_class)  \n",
    "\n",
    "    error, posterior = crossEntropy(weights, X_bias, label_vector)\n",
    "    error_grad = gradient(X_bias, label_vector, posterior)\n",
    "    \n",
    "    \n",
    "    return error, error_grad"
   ]
  },
  {
   "cell_type": "markdown",
   "metadata": {},
   "source": [
    "Once the weight vector is returned, the prediction function will return the predicted values from a testing set."
   ]
  },
  {
   "cell_type": "code",
   "execution_count": 24,
   "metadata": {
    "collapsed": true
   },
   "outputs": [],
   "source": [
    "def prediction(W, data):\n",
    "    \"\"\"\n",
    "    Returns Predicted value from testing data \n",
    "    \n",
    "    Keywords:\n",
    "    W: optimal Weight matrix learned\n",
    "    data: testing data\n",
    "    out: The most probable category from testing data\n",
    "    \"\"\"\n",
    "    \n",
    "    X_bias = np.hstack((np.ones((len(data), 1)), data))\n",
    "    \n",
    "    y_prob = np.argmax(posteriorProb(W, X_bias), axis=1)\n",
    "    \n",
    "    \n",
    "    return y_prob.reshape(len(data), 1)"
   ]
  },
  {
   "cell_type": "markdown",
   "metadata": {},
   "source": [
    "The complete implemintation:"
   ]
  },
  {
   "cell_type": "code",
   "execution_count": 25,
   "metadata": {},
   "outputs": [
    {
     "name": "stdout",
     "output_type": "stream",
     "text": [
      "[[ 7  0  0]\n",
      " [ 0 14  0]\n",
      " [ 0  0  9]]\n",
      "             precision    recall  f1-score   support\n",
      "\n",
      "          0       1.00      1.00      1.00         7\n",
      "          1       1.00      1.00      1.00        14\n",
      "          2       1.00      1.00      1.00         9\n",
      "\n",
      "avg / total       1.00      1.00      1.00        30\n",
      "\n",
      "\n",
      " Testing set Accuracy:100.0%\n"
     ]
    },
    {
     "name": "stderr",
     "output_type": "stream",
     "text": [
      "/Users/atorres/anaconda3/lib/python3.6/site-packages/ipykernel_launcher.py:14: FutureWarning: reshape is deprecated and will raise in a subsequent release. Please use .values.reshape(...) instead\n",
      "  \n",
      "/Users/atorres/anaconda3/lib/python3.6/site-packages/ipykernel_launcher.py:15: FutureWarning: reshape is deprecated and will raise in a subsequent release. Please use .values.reshape(...) instead\n",
      "  from ipykernel import kernelapp as app\n"
     ]
    }
   ],
   "source": [
    "# Importing the minimize function\n",
    "from scipy.optimize import minimize\n",
    "\n",
    "# Encoding Species into numbers\n",
    "encoded_labels = iris_data.iloc[:, -1].astype('category').cat.codes\n",
    "\n",
    "# Spliting into testing and training sets\n",
    "X_train, X_test, y_train, y_test = train_test_split(iris_data.iloc[:, :-1], encoded_labels, test_size=0.2)\n",
    "\n",
    "# A few variables needed to reshape the matricies\n",
    "n_feature = X_train.shape[1]\n",
    "n_class = len(y_train.unique())\n",
    "n_train = X_train.shape[0]\n",
    "y_train = y_train.reshape(len(y_train), 1)\n",
    "y_test = y_test.reshape(len(y_test), 1)\n",
    "\n",
    "# Creating Dummy Variables\n",
    "Y = np.zeros((n_train, n_class))\n",
    "for i in range(n_class):\n",
    "    Y[:, i] = (y_train == i).astype(int).ravel()\n",
    "\n",
    "# All Weights initialized as 0\n",
    "initial_Weights = np.zeros((n_feature + 1, n_class))\n",
    "\n",
    "# Calling the minimize function\n",
    "args = (X_train, Y)\n",
    "params = minimize(objective_Function, initial_Weights, jac=True, args=args, method='CG')\n",
    "weight_vector = params.x.reshape((n_feature + 1, n_class))\n",
    "\n",
    "# Find the accuracy on Testing Dataset\n",
    "predicted = prediction(weight_vector, X_test)\n",
    "\n",
    "\n",
    "print(confusion_matrix(y_test, predicted))\n",
    "print(classification_report(y_test, predicted))\n",
    "\n",
    "\n",
    "print('\\n Testing set Accuracy:' + str(100 * np.mean((predicted == y_test).astype(float))) + '%')"
   ]
  }
 ],
 "metadata": {
  "kernelspec": {
   "display_name": "Python 3",
   "language": "python",
   "name": "python3"
  },
  "language_info": {
   "codemirror_mode": {
    "name": "ipython",
    "version": 3
   },
   "file_extension": ".py",
   "mimetype": "text/x-python",
   "name": "python",
   "nbconvert_exporter": "python",
   "pygments_lexer": "ipython3",
   "version": "3.6.3"
  }
 },
 "nbformat": 4,
 "nbformat_minor": 2
}
